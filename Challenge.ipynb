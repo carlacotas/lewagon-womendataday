{
  "cells": [
    {
      "cell_type": "markdown",
      "metadata": {
        "id": "view-in-github",
        "colab_type": "text"
      },
      "source": [
        "<a href=\"https://colab.research.google.com/github/carlacotas/lewagon-womendataday/blob/main/Challenge.ipynb\" target=\"_parent\"><img src=\"https://colab.research.google.com/assets/colab-badge.svg\" alt=\"Open In Colab\"/></a>"
      ]
    },
    {
      "cell_type": "markdown",
      "metadata": {
        "id": "REkb0tEFJ1GU"
      },
      "source": [
        "## Question 1 - Python 101"
      ]
    },
    {
      "cell_type": "markdown",
      "metadata": {
        "id": "hgMWHrUEJ1Gc"
      },
      "source": [
        "### Question 1.1"
      ]
    },
    {
      "cell_type": "markdown",
      "metadata": {
        "id": "59tmyagyJ1Gd"
      },
      "source": [
        "---\n",
        "❓ Define a variable called **key_sentence** with the following sentence:\n",
        "_\"Learning Data Analytics at Le Wagon is amazing!\"_"
      ]
    },
    {
      "cell_type": "code",
      "execution_count": null,
      "metadata": {
        "id": "gj4txiMWJ1Gf"
      },
      "outputs": [],
      "source": [
        "# Your code here\n",
        "key_sentence = \"Learning Data Analytics at Le Wagon is amazing!\""
      ]
    },
    {
      "cell_type": "markdown",
      "metadata": {
        "id": "WDVnmR9tJ1Gh"
      },
      "source": [
        "### Question 1.2"
      ]
    },
    {
      "cell_type": "markdown",
      "metadata": {
        "id": "Q1cukjEMJ1Gi"
      },
      "source": [
        "---\n",
        "❓ Print the length of the sentence stored in the variable **key_sentence**."
      ]
    },
    {
      "cell_type": "code",
      "execution_count": null,
      "metadata": {
        "id": "EQkeqqZKJ1Gj",
        "outputId": "d15f0cbe-62a4-4e48-a471-67ff1c221789"
      },
      "outputs": [
        {
          "data": {
            "text/plain": [
              "47"
            ]
          },
          "execution_count": 2,
          "metadata": {},
          "output_type": "execute_result"
        }
      ],
      "source": [
        "# Your code here\n",
        "len(key_sentence)"
      ]
    },
    {
      "cell_type": "markdown",
      "metadata": {
        "id": "xETPQZQzJ1Gl"
      },
      "source": [
        "## Question 2 - Data Sourcing and EDA with Pandas"
      ]
    },
    {
      "cell_type": "markdown",
      "metadata": {
        "id": "N8ZfW4W2J1Gm"
      },
      "source": [
        "The goal of this challenge is to analyze movies on IMDb. Some code cells are already implemented, you just need to **run** them. Some other cells need you to write some code.\n",
        "\n",
        "Start the challenge by running the two following cells:\n",
        "\n",
        "**Please guarantee that you have saved the *IMDb movies.csv* in the same folder as you have saved this document!** \n",
        "\n",
        "*If you store it in a different folder you will have to define the path within the **pd.read_csv()** function.*"
      ]
    },
    {
      "cell_type": "code",
      "execution_count": null,
      "metadata": {
        "id": "Un_uDZG3J1Gn"
      },
      "outputs": [],
      "source": [
        "import pandas as pd\n",
        "import seaborn as sns\n",
        "import matplotlib.pyplot as plt\n",
        "import numpy as np"
      ]
    },
    {
      "cell_type": "code",
      "execution_count": null,
      "metadata": {
        "id": "vcBVwieFJ1Go",
        "outputId": "e91e27ef-4377-4750-b17b-b648aae01c64"
      },
      "outputs": [
        {
          "name": "stderr",
          "output_type": "stream",
          "text": [
            "/home/carlacotas/.virtualenvs/prep-venv/lib/python3.7/site-packages/IPython/core/interactiveshell.py:3170: DtypeWarning: Columns (3) have mixed types.Specify dtype option on import or set low_memory=False.\n",
            "  interactivity=interactivity, compiler=compiler, result=result)\n"
          ]
        }
      ],
      "source": [
        "imdb_movies = pd.read_csv('IMDb movies.csv')"
      ]
    },
    {
      "cell_type": "markdown",
      "metadata": {
        "id": "GJwjFpjpJ1Gp"
      },
      "source": [
        "---\n",
        "\n",
        "Apply the following code to create a new DataFrame called **imdb_filtered** which filters the **imdb_movies** DataFrame to only include movies from the below listed countries and genres:\n",
        "\n",
        "**Countries**:\n",
        "   - USA\n",
        "   - UK\n",
        "   - India\n",
        "   - France\n",
        "   - China\n",
        "   - Portugal\n",
        "\n",
        "\n",
        "**Genres**:\n",
        "   - Drama\n",
        "   - Comedy\n",
        "   - Thriller \n",
        "   - Horror"
      ]
    },
    {
      "cell_type": "code",
      "execution_count": null,
      "metadata": {
        "id": "rnWSSCloJ1Gq"
      },
      "outputs": [],
      "source": [
        "countries_to_keep = ['USA','UK','India','France','China','Portugal']\n",
        "\n",
        "genres_to_keep = ['Drama','Comedy','Thriller','Horror']\n",
        "\n",
        "\n",
        "imdb_filtered = imdb_movies[imdb_movies.country.isin(countries_to_keep)]\n",
        "\n",
        "imdb_filtered = imdb_filtered[imdb_filtered.genre.isin(genres_to_keep)]"
      ]
    },
    {
      "cell_type": "markdown",
      "metadata": {
        "id": "rnPQRgI3J1Gr"
      },
      "source": [
        " **Always use the *imdb_filtered* DataFrame for answering the upcoming questions!**"
      ]
    },
    {
      "cell_type": "markdown",
      "metadata": {
        "id": "WIVNpdmCJ1Gs"
      },
      "source": [
        "### Question 2.1"
      ]
    },
    {
      "cell_type": "markdown",
      "metadata": {
        "id": "NJICjfw9J1Gs"
      },
      "source": [
        "---\n",
        "\n",
        "❓ Display the 10 first rows of the **imdb_filtered** DataFrame (no need to sort)"
      ]
    },
    {
      "cell_type": "code",
      "execution_count": null,
      "metadata": {
        "id": "dM28QMSOJ1Gt",
        "outputId": "060c448d-48ec-4e5f-bf46-0d5132cc241e"
      },
      "outputs": [
        {
          "data": {
            "text/html": [
              "<div>\n",
              "<style scoped>\n",
              "    .dataframe tbody tr th:only-of-type {\n",
              "        vertical-align: middle;\n",
              "    }\n",
              "\n",
              "    .dataframe tbody tr th {\n",
              "        vertical-align: top;\n",
              "    }\n",
              "\n",
              "    .dataframe thead th {\n",
              "        text-align: right;\n",
              "    }\n",
              "</style>\n",
              "<table border=\"1\" class=\"dataframe\">\n",
              "  <thead>\n",
              "    <tr style=\"text-align: right;\">\n",
              "      <th></th>\n",
              "      <th>imdb_title_id</th>\n",
              "      <th>title</th>\n",
              "      <th>original_title</th>\n",
              "      <th>year</th>\n",
              "      <th>date_published</th>\n",
              "      <th>genre</th>\n",
              "      <th>duration</th>\n",
              "      <th>country</th>\n",
              "      <th>language</th>\n",
              "      <th>director</th>\n",
              "      <th>...</th>\n",
              "      <th>actors</th>\n",
              "      <th>description</th>\n",
              "      <th>avg_vote</th>\n",
              "      <th>votes</th>\n",
              "      <th>budget</th>\n",
              "      <th>usa_gross_income</th>\n",
              "      <th>worlwide_gross_income</th>\n",
              "      <th>metascore</th>\n",
              "      <th>reviews_from_users</th>\n",
              "      <th>reviews_from_critics</th>\n",
              "    </tr>\n",
              "  </thead>\n",
              "  <tbody>\n",
              "    <tr>\n",
              "      <th>17</th>\n",
              "      <td>tt0003167</td>\n",
              "      <td>Amore di madre</td>\n",
              "      <td>Home, Sweet Home</td>\n",
              "      <td>1914</td>\n",
              "      <td>1914-05-17</td>\n",
              "      <td>Drama</td>\n",
              "      <td>55</td>\n",
              "      <td>USA</td>\n",
              "      <td>English</td>\n",
              "      <td>D.W. Griffith</td>\n",
              "      <td>...</td>\n",
              "      <td>Henry B. Walthall, Josephine Crowell, Lillian ...</td>\n",
              "      <td>John Howard Payne at his most miserable point ...</td>\n",
              "      <td>5.8</td>\n",
              "      <td>187</td>\n",
              "      <td>NaN</td>\n",
              "      <td>NaN</td>\n",
              "      <td>NaN</td>\n",
              "      <td>NaN</td>\n",
              "      <td>6.0</td>\n",
              "      <td>NaN</td>\n",
              "    </tr>\n",
              "    <tr>\n",
              "      <th>28</th>\n",
              "      <td>tt0003973</td>\n",
              "      <td>A Florida Enchantment</td>\n",
              "      <td>A Florida Enchantment</td>\n",
              "      <td>1914</td>\n",
              "      <td>1916-09-04</td>\n",
              "      <td>Comedy</td>\n",
              "      <td>63</td>\n",
              "      <td>USA</td>\n",
              "      <td>English</td>\n",
              "      <td>Sidney Drew</td>\n",
              "      <td>...</td>\n",
              "      <td>Sidney Drew, Edith Storey, Charles Kent, Mrs. ...</td>\n",
              "      <td>A young woman discovers a seed that can make w...</td>\n",
              "      <td>5.8</td>\n",
              "      <td>202</td>\n",
              "      <td>NaN</td>\n",
              "      <td>NaN</td>\n",
              "      <td>NaN</td>\n",
              "      <td>NaN</td>\n",
              "      <td>6.0</td>\n",
              "      <td>3.0</td>\n",
              "    </tr>\n",
              "    <tr>\n",
              "      <th>32</th>\n",
              "      <td>tt0004134</td>\n",
              "      <td>Hypocrites</td>\n",
              "      <td>Hypocrites</td>\n",
              "      <td>1915</td>\n",
              "      <td>1915-01-20</td>\n",
              "      <td>Drama</td>\n",
              "      <td>54</td>\n",
              "      <td>USA</td>\n",
              "      <td>English</td>\n",
              "      <td>Lois Weber</td>\n",
              "      <td>...</td>\n",
              "      <td>Courtenay Foote, Myrtle Stedman, Herbert Stand...</td>\n",
              "      <td>The parallel stories of a modern preacher and ...</td>\n",
              "      <td>6.6</td>\n",
              "      <td>456</td>\n",
              "      <td>NaN</td>\n",
              "      <td>NaN</td>\n",
              "      <td>NaN</td>\n",
              "      <td>NaN</td>\n",
              "      <td>41.0</td>\n",
              "      <td>9.0</td>\n",
              "    </tr>\n",
              "    <tr>\n",
              "      <th>34</th>\n",
              "      <td>tt0004181</td>\n",
              "      <td>Judith of Bethulia</td>\n",
              "      <td>Judith of Bethulia</td>\n",
              "      <td>1914</td>\n",
              "      <td>1914-03-08</td>\n",
              "      <td>Drama</td>\n",
              "      <td>61</td>\n",
              "      <td>USA</td>\n",
              "      <td>English</td>\n",
              "      <td>D.W. Griffith</td>\n",
              "      <td>...</td>\n",
              "      <td>Blanche Sweet, Henry B. Walthall, Mae Marsh, R...</td>\n",
              "      <td>A religious woman seeks to save her people fro...</td>\n",
              "      <td>6.1</td>\n",
              "      <td>1239</td>\n",
              "      <td>$ 40000</td>\n",
              "      <td>NaN</td>\n",
              "      <td>NaN</td>\n",
              "      <td>NaN</td>\n",
              "      <td>16.0</td>\n",
              "      <td>9.0</td>\n",
              "    </tr>\n",
              "    <tr>\n",
              "      <th>38</th>\n",
              "      <td>tt0004681</td>\n",
              "      <td>La madonnina del porto</td>\n",
              "      <td>Tess of the Storm Country</td>\n",
              "      <td>1914</td>\n",
              "      <td>1914-03-30</td>\n",
              "      <td>Drama</td>\n",
              "      <td>80</td>\n",
              "      <td>USA</td>\n",
              "      <td>English</td>\n",
              "      <td>Edwin S. Porter</td>\n",
              "      <td>...</td>\n",
              "      <td>Mary Pickford, Harold Lockwood, Olive Carey, D...</td>\n",
              "      <td>A wealthy resident attempts to dispossess squa...</td>\n",
              "      <td>6.1</td>\n",
              "      <td>178</td>\n",
              "      <td>$ 10000</td>\n",
              "      <td>NaN</td>\n",
              "      <td>NaN</td>\n",
              "      <td>NaN</td>\n",
              "      <td>5.0</td>\n",
              "      <td>3.0</td>\n",
              "    </tr>\n",
              "    <tr>\n",
              "      <th>39</th>\n",
              "      <td>tt0004707</td>\n",
              "      <td>Tillie's Punctured Romance</td>\n",
              "      <td>Tillie's Punctured Romance</td>\n",
              "      <td>1914</td>\n",
              "      <td>1914-12-21</td>\n",
              "      <td>Comedy</td>\n",
              "      <td>82</td>\n",
              "      <td>USA</td>\n",
              "      <td>None, English</td>\n",
              "      <td>Mack Sennett, Charles Bennett</td>\n",
              "      <td>...</td>\n",
              "      <td>Marie Dressler, Charles Chaplin, Mabel Normand...</td>\n",
              "      <td>A con man from the city dupes a wealthy countr...</td>\n",
              "      <td>6.3</td>\n",
              "      <td>3250</td>\n",
              "      <td>$ 50000</td>\n",
              "      <td>NaN</td>\n",
              "      <td>NaN</td>\n",
              "      <td>NaN</td>\n",
              "      <td>38.0</td>\n",
              "      <td>18.0</td>\n",
              "    </tr>\n",
              "    <tr>\n",
              "      <th>41</th>\n",
              "      <td>tt0004743</td>\n",
              "      <td>Uncle Tom's Cabin</td>\n",
              "      <td>Uncle Tom's Cabin</td>\n",
              "      <td>1914</td>\n",
              "      <td>1914-08-10</td>\n",
              "      <td>Drama</td>\n",
              "      <td>54</td>\n",
              "      <td>USA</td>\n",
              "      <td>NaN</td>\n",
              "      <td>William Robert Daly</td>\n",
              "      <td>...</td>\n",
              "      <td>Sam Lucas, Walter Hitchcock, Hattie Delaro, Ma...</td>\n",
              "      <td>A black and white silent film based on Harriet...</td>\n",
              "      <td>5.3</td>\n",
              "      <td>112</td>\n",
              "      <td>NaN</td>\n",
              "      <td>NaN</td>\n",
              "      <td>NaN</td>\n",
              "      <td>NaN</td>\n",
              "      <td>4.0</td>\n",
              "      <td>NaN</td>\n",
              "    </tr>\n",
              "    <tr>\n",
              "      <th>48</th>\n",
              "      <td>tt0005060</td>\n",
              "      <td>Carmen</td>\n",
              "      <td>Carmen</td>\n",
              "      <td>1915</td>\n",
              "      <td>1915-10-31</td>\n",
              "      <td>Drama</td>\n",
              "      <td>59</td>\n",
              "      <td>USA</td>\n",
              "      <td>English</td>\n",
              "      <td>Cecil B. DeMille</td>\n",
              "      <td>...</td>\n",
              "      <td>Geraldine Farrar, Wallace Reid, Pedro de Cordo...</td>\n",
              "      <td>In order to help her smuggler kinsmen, a sultr...</td>\n",
              "      <td>6.4</td>\n",
              "      <td>894</td>\n",
              "      <td>$ 23430</td>\n",
              "      <td>NaN</td>\n",
              "      <td>NaN</td>\n",
              "      <td>NaN</td>\n",
              "      <td>20.0</td>\n",
              "      <td>8.0</td>\n",
              "    </tr>\n",
              "    <tr>\n",
              "      <th>51</th>\n",
              "      <td>tt0005339</td>\n",
              "      <td>La vampira</td>\n",
              "      <td>A Fool There Was</td>\n",
              "      <td>1915</td>\n",
              "      <td>1915-01-12</td>\n",
              "      <td>Drama</td>\n",
              "      <td>67</td>\n",
              "      <td>USA</td>\n",
              "      <td>English</td>\n",
              "      <td>Frank Powell</td>\n",
              "      <td>...</td>\n",
              "      <td>Runa Hodges, Mabel Frenyear, Edward José, May ...</td>\n",
              "      <td>A married diplomat falls hopelessly under the ...</td>\n",
              "      <td>5.8</td>\n",
              "      <td>783</td>\n",
              "      <td>NaN</td>\n",
              "      <td>NaN</td>\n",
              "      <td>NaN</td>\n",
              "      <td>NaN</td>\n",
              "      <td>20.0</td>\n",
              "      <td>14.0</td>\n",
              "    </tr>\n",
              "    <tr>\n",
              "      <th>52</th>\n",
              "      <td>tt0005402</td>\n",
              "      <td>The Golden Chance</td>\n",
              "      <td>The Golden Chance</td>\n",
              "      <td>1915</td>\n",
              "      <td>1915-12-30</td>\n",
              "      <td>Drama</td>\n",
              "      <td>74</td>\n",
              "      <td>USA</td>\n",
              "      <td>English</td>\n",
              "      <td>Cecil B. DeMille</td>\n",
              "      <td>...</td>\n",
              "      <td>Cleo Ridgely, Wallace Reid, Horace B. Carpente...</td>\n",
              "      <td>Mary Denby becomes a seamstress after her husb...</td>\n",
              "      <td>6.4</td>\n",
              "      <td>187</td>\n",
              "      <td>$ 18711</td>\n",
              "      <td>NaN</td>\n",
              "      <td>NaN</td>\n",
              "      <td>NaN</td>\n",
              "      <td>10.0</td>\n",
              "      <td>1.0</td>\n",
              "    </tr>\n",
              "  </tbody>\n",
              "</table>\n",
              "<p>10 rows × 22 columns</p>\n",
              "</div>"
            ],
            "text/plain": [
              "   imdb_title_id                       title              original_title  \\\n",
              "17     tt0003167              Amore di madre            Home, Sweet Home   \n",
              "28     tt0003973       A Florida Enchantment       A Florida Enchantment   \n",
              "32     tt0004134                  Hypocrites                  Hypocrites   \n",
              "34     tt0004181          Judith of Bethulia          Judith of Bethulia   \n",
              "38     tt0004681      La madonnina del porto   Tess of the Storm Country   \n",
              "39     tt0004707  Tillie's Punctured Romance  Tillie's Punctured Romance   \n",
              "41     tt0004743           Uncle Tom's Cabin           Uncle Tom's Cabin   \n",
              "48     tt0005060                      Carmen                      Carmen   \n",
              "51     tt0005339                  La vampira            A Fool There Was   \n",
              "52     tt0005402           The Golden Chance           The Golden Chance   \n",
              "\n",
              "    year date_published   genre  duration country       language  \\\n",
              "17  1914     1914-05-17   Drama        55     USA        English   \n",
              "28  1914     1916-09-04  Comedy        63     USA        English   \n",
              "32  1915     1915-01-20   Drama        54     USA        English   \n",
              "34  1914     1914-03-08   Drama        61     USA        English   \n",
              "38  1914     1914-03-30   Drama        80     USA        English   \n",
              "39  1914     1914-12-21  Comedy        82     USA  None, English   \n",
              "41  1914     1914-08-10   Drama        54     USA            NaN   \n",
              "48  1915     1915-10-31   Drama        59     USA        English   \n",
              "51  1915     1915-01-12   Drama        67     USA        English   \n",
              "52  1915     1915-12-30   Drama        74     USA        English   \n",
              "\n",
              "                         director  ...  \\\n",
              "17                  D.W. Griffith  ...   \n",
              "28                    Sidney Drew  ...   \n",
              "32                     Lois Weber  ...   \n",
              "34                  D.W. Griffith  ...   \n",
              "38                Edwin S. Porter  ...   \n",
              "39  Mack Sennett, Charles Bennett  ...   \n",
              "41            William Robert Daly  ...   \n",
              "48               Cecil B. DeMille  ...   \n",
              "51                   Frank Powell  ...   \n",
              "52               Cecil B. DeMille  ...   \n",
              "\n",
              "                                               actors  \\\n",
              "17  Henry B. Walthall, Josephine Crowell, Lillian ...   \n",
              "28  Sidney Drew, Edith Storey, Charles Kent, Mrs. ...   \n",
              "32  Courtenay Foote, Myrtle Stedman, Herbert Stand...   \n",
              "34  Blanche Sweet, Henry B. Walthall, Mae Marsh, R...   \n",
              "38  Mary Pickford, Harold Lockwood, Olive Carey, D...   \n",
              "39  Marie Dressler, Charles Chaplin, Mabel Normand...   \n",
              "41  Sam Lucas, Walter Hitchcock, Hattie Delaro, Ma...   \n",
              "48  Geraldine Farrar, Wallace Reid, Pedro de Cordo...   \n",
              "51  Runa Hodges, Mabel Frenyear, Edward José, May ...   \n",
              "52  Cleo Ridgely, Wallace Reid, Horace B. Carpente...   \n",
              "\n",
              "                                          description avg_vote votes   budget  \\\n",
              "17  John Howard Payne at his most miserable point ...      5.8   187      NaN   \n",
              "28  A young woman discovers a seed that can make w...      5.8   202      NaN   \n",
              "32  The parallel stories of a modern preacher and ...      6.6   456      NaN   \n",
              "34  A religious woman seeks to save her people fro...      6.1  1239  $ 40000   \n",
              "38  A wealthy resident attempts to dispossess squa...      6.1   178  $ 10000   \n",
              "39  A con man from the city dupes a wealthy countr...      6.3  3250  $ 50000   \n",
              "41  A black and white silent film based on Harriet...      5.3   112      NaN   \n",
              "48  In order to help her smuggler kinsmen, a sultr...      6.4   894  $ 23430   \n",
              "51  A married diplomat falls hopelessly under the ...      5.8   783      NaN   \n",
              "52  Mary Denby becomes a seamstress after her husb...      6.4   187  $ 18711   \n",
              "\n",
              "    usa_gross_income worlwide_gross_income metascore reviews_from_users  \\\n",
              "17               NaN                   NaN       NaN                6.0   \n",
              "28               NaN                   NaN       NaN                6.0   \n",
              "32               NaN                   NaN       NaN               41.0   \n",
              "34               NaN                   NaN       NaN               16.0   \n",
              "38               NaN                   NaN       NaN                5.0   \n",
              "39               NaN                   NaN       NaN               38.0   \n",
              "41               NaN                   NaN       NaN                4.0   \n",
              "48               NaN                   NaN       NaN               20.0   \n",
              "51               NaN                   NaN       NaN               20.0   \n",
              "52               NaN                   NaN       NaN               10.0   \n",
              "\n",
              "    reviews_from_critics  \n",
              "17                   NaN  \n",
              "28                   3.0  \n",
              "32                   9.0  \n",
              "34                   9.0  \n",
              "38                   3.0  \n",
              "39                  18.0  \n",
              "41                   NaN  \n",
              "48                   8.0  \n",
              "51                  14.0  \n",
              "52                   1.0  \n",
              "\n",
              "[10 rows x 22 columns]"
            ]
          },
          "execution_count": 6,
          "metadata": {},
          "output_type": "execute_result"
        }
      ],
      "source": [
        "# Your code here\n",
        "\n",
        "imdb_filtered.head(10)"
      ]
    },
    {
      "cell_type": "markdown",
      "metadata": {
        "id": "CGPXY0sbJ1Gu"
      },
      "source": [
        "### Question 2.2"
      ]
    },
    {
      "cell_type": "markdown",
      "metadata": {
        "id": "5jhnJuEHJ1Gv"
      },
      "source": [
        "---\n",
        "\n",
        "❓How many rows and columns exist in the **imdb_filtered** DataFrame?"
      ]
    },
    {
      "cell_type": "code",
      "execution_count": null,
      "metadata": {
        "id": "PA-qAw2HJ1Gv",
        "outputId": "2127ccbf-965e-4aa2-a99d-8e2483f618ac"
      },
      "outputs": [
        {
          "name": "stdout",
          "output_type": "stream",
          "text": [
            "Number of rows and columns of the imdb_filtered DataFrame:\n",
            "(10074, 22)\n"
          ]
        }
      ],
      "source": [
        "# Your code here\n",
        "\n",
        "imdb_filtered.shape\n",
        "\n",
        "print(\"Number of rows and columns of the imdb_filtered DataFrame:\")\n",
        "print(imdb_filtered.shape)\n"
      ]
    },
    {
      "cell_type": "markdown",
      "metadata": {
        "id": "esz_1amlJ1Gw"
      },
      "source": [
        "### Question 2.3"
      ]
    },
    {
      "cell_type": "markdown",
      "metadata": {
        "id": "UxXTAEgUJ1Gx"
      },
      "source": [
        "---\n",
        "\n",
        "❓Drop the columns in the *columns_to_drop* list below from the **imdb_filtered** DataFrame:"
      ]
    },
    {
      "cell_type": "code",
      "execution_count": null,
      "metadata": {
        "id": "K6YyGHnjJ1Gx"
      },
      "outputs": [],
      "source": [
        "columns_to_drop = ['title', 'date_published', 'writer','actors','description','usa_gross_income',\n",
        "                   'worlwide_gross_income','metascore','reviews_from_users','reviews_from_critics'] "
      ]
    },
    {
      "cell_type": "code",
      "execution_count": null,
      "metadata": {
        "id": "nvQo3nbSJ1Gy",
        "outputId": "1735c194-2fa3-47dd-b2f8-c36f29f2388c"
      },
      "outputs": [
        {
          "name": "stdout",
          "output_type": "stream",
          "text": [
            "Number of rows and columns of the imdb_filtered DataFrame with the drop columns in the `columns_to_drop`:\n",
            "(10074, 12)\n"
          ]
        }
      ],
      "source": [
        "# Your code here\n",
        "\n",
        "imdb_filtered.drop(columns_to_drop, axis = 1, inplace=True)\n",
        "\n",
        "#validation of the drop columns\n",
        "print(\"Number of rows and columns of the imdb_filtered DataFrame with the drop columns in the `columns_to_drop`:\")\n",
        "print(imdb_filtered.shape)\n"
      ]
    },
    {
      "cell_type": "markdown",
      "metadata": {
        "id": "__9IN0UXJ1Gy"
      },
      "source": [
        "### Question 2.4"
      ]
    },
    {
      "cell_type": "markdown",
      "metadata": {
        "id": "fMV73acpJ1Gz"
      },
      "source": [
        "---\n",
        "\n",
        "❓How many movies exist in total? Store the result in a variable called **total_movie_number**."
      ]
    },
    {
      "cell_type": "code",
      "execution_count": null,
      "metadata": {
        "id": "2lTVf0wLJ1Gz",
        "outputId": "9ce97317-bffd-4466-9c85-286641f5cd42"
      },
      "outputs": [
        {
          "name": "stdout",
          "output_type": "stream",
          "text": [
            "Total number of movies:\n",
            "10074\n",
            "Total number of unique movies:\n",
            "9920\n"
          ]
        }
      ],
      "source": [
        "# Your code here\n",
        "\n",
        "total_movie_number = len(imdb_filtered[\"imdb_title_id\"].unique())\n",
        "total_unique_movie_number = len(imdb_filtered[\"original_title\"].unique())\n",
        "\n",
        "print(\"Total number of movies:\")\n",
        "print(total_movie_number)\n",
        "\n",
        "print(\"Total number of unique movies:\")\n",
        "print(total_unique_movie_number)\n",
        "\n",
        "#from the results -> it seems that there are 10074 movies with unique identifier number\n",
        "#                 -> however, only 9920 movies have different titles"
      ]
    },
    {
      "cell_type": "markdown",
      "metadata": {
        "id": "iSWdrqORJ1G0"
      },
      "source": [
        "### Question 2.5"
      ]
    },
    {
      "cell_type": "markdown",
      "metadata": {
        "id": "4USYgiuNJ1G0"
      },
      "source": [
        "---\n",
        "\n",
        "❓ What are the 10 movies with the hightest average vote? "
      ]
    },
    {
      "cell_type": "code",
      "execution_count": null,
      "metadata": {
        "id": "n_hhZKCxJ1G1",
        "outputId": "5b1985b7-d62c-4334-ce88-a3fa74f483f3"
      },
      "outputs": [
        {
          "name": "stdout",
          "output_type": "stream",
          "text": [
            "The 10 movies with the hightest average vote:\n",
            "58809                                Hopeful Notes\n",
            "84434                          Vaarthakal Ithuvare\n",
            "54166                          The Moving on Phase\n",
            "28453                     The Shawshank Redemption\n",
            "81109                             Love in Kilnerry\n",
            "52407    National Theatre Live: The Lehman Trilogy\n",
            "53698                                          Fan\n",
            "54313                Maarjaara Oru Kalluvacha Nuna\n",
            "76069                                    Digbhayam\n",
            "84623                                    Eghantham\n",
            "Name: original_title, dtype: object\n",
            "-----\n",
            "The entire information about the 10 movies with the hightest average vote:\n"
          ]
        },
        {
          "data": {
            "text/html": [
              "<div>\n",
              "<style scoped>\n",
              "    .dataframe tbody tr th:only-of-type {\n",
              "        vertical-align: middle;\n",
              "    }\n",
              "\n",
              "    .dataframe tbody tr th {\n",
              "        vertical-align: top;\n",
              "    }\n",
              "\n",
              "    .dataframe thead th {\n",
              "        text-align: right;\n",
              "    }\n",
              "</style>\n",
              "<table border=\"1\" class=\"dataframe\">\n",
              "  <thead>\n",
              "    <tr style=\"text-align: right;\">\n",
              "      <th></th>\n",
              "      <th>imdb_title_id</th>\n",
              "      <th>original_title</th>\n",
              "      <th>year</th>\n",
              "      <th>genre</th>\n",
              "      <th>duration</th>\n",
              "      <th>country</th>\n",
              "      <th>language</th>\n",
              "      <th>director</th>\n",
              "      <th>production_company</th>\n",
              "      <th>avg_vote</th>\n",
              "      <th>votes</th>\n",
              "      <th>budget</th>\n",
              "    </tr>\n",
              "  </thead>\n",
              "  <tbody>\n",
              "    <tr>\n",
              "      <th>58809</th>\n",
              "      <td>tt1508669</td>\n",
              "      <td>Hopeful Notes</td>\n",
              "      <td>2010</td>\n",
              "      <td>Drama</td>\n",
              "      <td>94</td>\n",
              "      <td>USA</td>\n",
              "      <td>English</td>\n",
              "      <td>Valerio Zanoli</td>\n",
              "      <td>High Concept</td>\n",
              "      <td>9.7</td>\n",
              "      <td>669</td>\n",
              "      <td>$ 1500000</td>\n",
              "    </tr>\n",
              "    <tr>\n",
              "      <th>84434</th>\n",
              "      <td>tt8571428</td>\n",
              "      <td>Vaarthakal Ithuvare</td>\n",
              "      <td>2019</td>\n",
              "      <td>Comedy</td>\n",
              "      <td>121</td>\n",
              "      <td>India</td>\n",
              "      <td>Malayalam</td>\n",
              "      <td>Manoj Nair</td>\n",
              "      <td>Lawson Entertainment</td>\n",
              "      <td>9.7</td>\n",
              "      <td>473</td>\n",
              "      <td>NaN</td>\n",
              "    </tr>\n",
              "    <tr>\n",
              "      <th>54166</th>\n",
              "      <td>tt11164090</td>\n",
              "      <td>The Moving on Phase</td>\n",
              "      <td>2020</td>\n",
              "      <td>Comedy</td>\n",
              "      <td>85</td>\n",
              "      <td>USA</td>\n",
              "      <td>English</td>\n",
              "      <td>Don Tjernagel</td>\n",
              "      <td>NaN</td>\n",
              "      <td>9.5</td>\n",
              "      <td>172</td>\n",
              "      <td>NaN</td>\n",
              "    </tr>\n",
              "    <tr>\n",
              "      <th>28453</th>\n",
              "      <td>tt0111161</td>\n",
              "      <td>The Shawshank Redemption</td>\n",
              "      <td>1994</td>\n",
              "      <td>Drama</td>\n",
              "      <td>142</td>\n",
              "      <td>USA</td>\n",
              "      <td>English</td>\n",
              "      <td>Frank Darabont</td>\n",
              "      <td>Castle Rock Entertainment</td>\n",
              "      <td>9.3</td>\n",
              "      <td>2278845</td>\n",
              "      <td>$ 25000000</td>\n",
              "    </tr>\n",
              "    <tr>\n",
              "      <th>81109</th>\n",
              "      <td>tt6735740</td>\n",
              "      <td>Love in Kilnerry</td>\n",
              "      <td>2019</td>\n",
              "      <td>Comedy</td>\n",
              "      <td>100</td>\n",
              "      <td>USA</td>\n",
              "      <td>English</td>\n",
              "      <td>Daniel Keith, Snorri Sturluson</td>\n",
              "      <td>Archway Pictures</td>\n",
              "      <td>9.3</td>\n",
              "      <td>1239</td>\n",
              "      <td>$ 3000000</td>\n",
              "    </tr>\n",
              "    <tr>\n",
              "      <th>52407</th>\n",
              "      <td>tt10127546</td>\n",
              "      <td>National Theatre Live: The Lehman Trilogy</td>\n",
              "      <td>2019</td>\n",
              "      <td>Drama</td>\n",
              "      <td>223</td>\n",
              "      <td>UK</td>\n",
              "      <td>NaN</td>\n",
              "      <td>Sam Mendes</td>\n",
              "      <td>NaN</td>\n",
              "      <td>9.2</td>\n",
              "      <td>138</td>\n",
              "      <td>NaN</td>\n",
              "    </tr>\n",
              "    <tr>\n",
              "      <th>53698</th>\n",
              "      <td>tt10867504</td>\n",
              "      <td>Fan</td>\n",
              "      <td>2019</td>\n",
              "      <td>Drama</td>\n",
              "      <td>145</td>\n",
              "      <td>India</td>\n",
              "      <td>Kannada</td>\n",
              "      <td>Balavalli Darshith Bhat</td>\n",
              "      <td>SLN Cinemas</td>\n",
              "      <td>9.2</td>\n",
              "      <td>879</td>\n",
              "      <td>INR 20000000</td>\n",
              "    </tr>\n",
              "    <tr>\n",
              "      <th>54313</th>\n",
              "      <td>tt11280912</td>\n",
              "      <td>Maarjaara Oru Kalluvacha Nuna</td>\n",
              "      <td>2020</td>\n",
              "      <td>Drama</td>\n",
              "      <td>142</td>\n",
              "      <td>India</td>\n",
              "      <td>Malayalam</td>\n",
              "      <td>Raakesh Baala</td>\n",
              "      <td>Mullappally Productions</td>\n",
              "      <td>9.2</td>\n",
              "      <td>347</td>\n",
              "      <td>NaN</td>\n",
              "    </tr>\n",
              "    <tr>\n",
              "      <th>76069</th>\n",
              "      <td>tt4897596</td>\n",
              "      <td>Digbhayam</td>\n",
              "      <td>2019</td>\n",
              "      <td>Thriller</td>\n",
              "      <td>107</td>\n",
              "      <td>India</td>\n",
              "      <td>Kannada</td>\n",
              "      <td>Amith</td>\n",
              "      <td>1234 Cine Creations</td>\n",
              "      <td>9.2</td>\n",
              "      <td>247</td>\n",
              "      <td>INR 12000000</td>\n",
              "    </tr>\n",
              "    <tr>\n",
              "      <th>84623</th>\n",
              "      <td>tt8718580</td>\n",
              "      <td>Eghantham</td>\n",
              "      <td>2018</td>\n",
              "      <td>Drama</td>\n",
              "      <td>125</td>\n",
              "      <td>India</td>\n",
              "      <td>Tamil</td>\n",
              "      <td>Arsel Arumugam</td>\n",
              "      <td>Annai Tamil Cinemas</td>\n",
              "      <td>9.2</td>\n",
              "      <td>644</td>\n",
              "      <td>NaN</td>\n",
              "    </tr>\n",
              "  </tbody>\n",
              "</table>\n",
              "</div>"
            ],
            "text/plain": [
              "      imdb_title_id                             original_title  year  \\\n",
              "58809     tt1508669                              Hopeful Notes  2010   \n",
              "84434     tt8571428                        Vaarthakal Ithuvare  2019   \n",
              "54166    tt11164090                        The Moving on Phase  2020   \n",
              "28453     tt0111161                   The Shawshank Redemption  1994   \n",
              "81109     tt6735740                           Love in Kilnerry  2019   \n",
              "52407    tt10127546  National Theatre Live: The Lehman Trilogy  2019   \n",
              "53698    tt10867504                                        Fan  2019   \n",
              "54313    tt11280912              Maarjaara Oru Kalluvacha Nuna  2020   \n",
              "76069     tt4897596                                  Digbhayam  2019   \n",
              "84623     tt8718580                                  Eghantham  2018   \n",
              "\n",
              "          genre  duration country   language                        director  \\\n",
              "58809     Drama        94     USA    English                  Valerio Zanoli   \n",
              "84434    Comedy       121   India  Malayalam                      Manoj Nair   \n",
              "54166    Comedy        85     USA    English                   Don Tjernagel   \n",
              "28453     Drama       142     USA    English                  Frank Darabont   \n",
              "81109    Comedy       100     USA    English  Daniel Keith, Snorri Sturluson   \n",
              "52407     Drama       223      UK        NaN                      Sam Mendes   \n",
              "53698     Drama       145   India    Kannada         Balavalli Darshith Bhat   \n",
              "54313     Drama       142   India  Malayalam                   Raakesh Baala   \n",
              "76069  Thriller       107   India    Kannada                           Amith   \n",
              "84623     Drama       125   India      Tamil                  Arsel Arumugam   \n",
              "\n",
              "              production_company  avg_vote    votes        budget  \n",
              "58809               High Concept       9.7      669     $ 1500000  \n",
              "84434       Lawson Entertainment       9.7      473           NaN  \n",
              "54166                        NaN       9.5      172           NaN  \n",
              "28453  Castle Rock Entertainment       9.3  2278845    $ 25000000  \n",
              "81109           Archway Pictures       9.3     1239     $ 3000000  \n",
              "52407                        NaN       9.2      138           NaN  \n",
              "53698                SLN Cinemas       9.2      879  INR 20000000  \n",
              "54313    Mullappally Productions       9.2      347           NaN  \n",
              "76069        1234 Cine Creations       9.2      247  INR 12000000  \n",
              "84623        Annai Tamil Cinemas       9.2      644           NaN  "
            ]
          },
          "execution_count": 11,
          "metadata": {},
          "output_type": "execute_result"
        }
      ],
      "source": [
        "# Your code here\n",
        "\n",
        "result = imdb_filtered.nlargest(10, \"avg_vote\")\n",
        "\n",
        "print(\"The 10 movies with the hightest average vote:\")\n",
        "print(result[\"original_title\"])\n",
        "print(\"-----\")\n",
        "print(\"The entire information about the 10 movies with the hightest average vote:\")\n",
        "imdb_filtered.nlargest(10, \"avg_vote\")\n"
      ]
    },
    {
      "cell_type": "markdown",
      "metadata": {
        "id": "KNFrTxg-J1G2"
      },
      "source": [
        "### Question 2.6"
      ]
    },
    {
      "cell_type": "markdown",
      "metadata": {
        "id": "XkFfvtYbJ1G2"
      },
      "source": [
        "---\n",
        "\n",
        "❓ What are the 10 production companies with the most movies? Plot this with a Matplotlib barchart."
      ]
    },
    {
      "cell_type": "code",
      "execution_count": null,
      "metadata": {
        "id": "lj9Gkd_gJ1G3",
        "outputId": "89e10244-759a-40bd-af5b-e4d7aa77a6d2"
      },
      "outputs": [
        {
          "name": "stdout",
          "output_type": "stream",
          "text": [
            "The 10 production companies with the most movies:\n",
            "Metro-Goldwyn-Mayer (MGM)    178\n",
            "Warner Bros.                 132\n",
            "Paramount Pictures           120\n",
            "Columbia Pictures            105\n",
            "Twentieth Century Fox         91\n",
            "RKO Radio Pictures            68\n",
            "Universal Pictures            66\n",
            "The Rank Organisation         48\n",
            "Canal+                        44\n",
            "First National Pictures       28\n",
            "Name: production_company, dtype: int64\n",
            "-----\n",
            "Matplotlib barchart:\n"
          ]
        },
        {
          "data": {
            "text/plain": [
              "<AxesSubplot:>"
            ]
          },
          "execution_count": 12,
          "metadata": {},
          "output_type": "execute_result"
        },
        {
          "data": {
            "image/png": "[encoded data removed]",
            "text/plain": [
              "<Figure size 432x288 with 1 Axes>"
            ]
          },
          "metadata": {
            "needs_background": "light"
          },
          "output_type": "display_data"
        }
      ],
      "source": [
        "# Your code here\n",
        "\n",
        "result = imdb_filtered[\"production_company\"].value_counts().head(10)\n",
        "\n",
        "print(\"The 10 production companies with the most movies:\")\n",
        "print(result)\n",
        "## Matplotlib barchart:\n",
        "print(\"-----\")\n",
        "print(\"Matplotlib barchart:\")\n",
        "\n",
        "result.plot(kind='bar')"
      ]
    },
    {
      "cell_type": "markdown",
      "metadata": {
        "id": "-CjGF0L6J1G4"
      },
      "source": [
        "### Question 2.7"
      ]
    },
    {
      "cell_type": "markdown",
      "metadata": {
        "id": "Bj_hzittJ1G5"
      },
      "source": [
        "---\n",
        "\n",
        "❓ Elaborate on the distribution of the average vote. Take advantage of the Seaborn Distplot to answer to this!"
      ]
    },
    {
      "cell_type": "code",
      "execution_count": null,
      "metadata": {
        "id": "68wpCt9XJ1G6",
        "outputId": "ad090e40-f218-4dd6-d18d-43550a3444ac"
      },
      "outputs": [
        {
          "name": "stderr",
          "output_type": "stream",
          "text": [
            "/home/carlacotas/.virtualenvs/prep-venv/lib/python3.7/site-packages/seaborn/distributions.py:2557: FutureWarning: `distplot` is a deprecated function and will be removed in a future version. Please adapt your code to use either `displot` (a figure-level function with similar flexibility) or `histplot` (an axes-level function for histograms).\n",
            "  warnings.warn(msg, FutureWarning)\n"
          ]
        },
        {
          "name": "stdout",
          "output_type": "stream",
          "text": [
            "Average vote mean:\n",
            "6.0\n"
          ]
        },
        {
          "data": {
            "image/png": "[encoded data removed]",
            "text/plain": [
              "<Figure size 432x288 with 1 Axes>"
            ]
          },
          "metadata": {
            "needs_background": "light"
          },
          "output_type": "display_data"
        }
      ],
      "source": [
        "# Your code here\n",
        "\n",
        "sns.distplot(imdb_filtered[\"avg_vote\"])\n",
        "\n",
        "# The distribution of the average vote seems to be very close to a normal distribution\n",
        "# without further information about the data set and the meaning of each column it is a little hard to get insights from the results\n",
        "# however, we can guess that the avg_vote stands for votes between 0 and 10\n",
        "# if this is the case, then it can be concluded that there are maybe movies with low values of vote (vote around 6)\n",
        "# and a smooth increase from 0 to 6\n",
        "# also, there are less votes for movies between 6 and 10 which can be an indication that the number of votes on\n",
        "# high rate movies are less than on the lower rated movies, i.e. the decrease is not as smooth as from avg_vote from 0 to 6\n",
        "\n",
        "# if the avg_vote reflects for example, the star rating\n",
        "# it can be concluded (visually) that most of the movies are rated between 5 and 7 stars, and mean: \n",
        "\n",
        "\n",
        "print(\"Average vote mean:\")\n",
        "print(round(imdb_filtered.avg_vote.mean(), 0))"
      ]
    },
    {
      "cell_type": "markdown",
      "metadata": {
        "id": "ImqNbauuJ1G8"
      },
      "source": [
        "### Question 2.8"
      ]
    },
    {
      "cell_type": "markdown",
      "metadata": {
        "id": "YWgFKVkWJ1G8"
      },
      "source": [
        "---\n",
        "\n",
        "❓ What are the most common genres in each country? Elaborate and plot this with a Seaborn countplot."
      ]
    },
    {
      "cell_type": "code",
      "execution_count": null,
      "metadata": {
        "id": "NUd-kUe3J1G9",
        "outputId": "6fdbd922-6a27-4043-9608-aabe2d468bf3"
      },
      "outputs": [
        {
          "name": "stdout",
          "output_type": "stream",
          "text": [
            "The most common genres in each country:\n",
            "genre     country \n",
            "Comedy    China         33\n",
            "          France       574\n",
            "          India        333\n",
            "          Portugal      18\n",
            "          UK           408\n",
            "          USA         2000\n",
            "Drama     China        116\n",
            "          France       632\n",
            "          India        749\n",
            "          Portugal      42\n",
            "          UK           461\n",
            "          USA         2568\n",
            "Horror    China          6\n",
            "          France        27\n",
            "          India         33\n",
            "          UK           222\n",
            "          USA         1103\n",
            "Thriller  China          1\n",
            "          France        43\n",
            "          India        102\n",
            "          Portugal       1\n",
            "          UK           100\n",
            "          USA          502\n",
            "dtype: int64\n"
          ]
        },
        {
          "data": {
            "image/png": "[encoded data removed]",
            "text/plain": [
              "<Figure size 432x288 with 1 Axes>"
            ]
          },
          "metadata": {
            "needs_background": "light"
          },
          "output_type": "display_data"
        }
      ],
      "source": [
        "# Your code here\n",
        "\n",
        "sns.countplot(data=imdb_filtered, x=\"genre\", hue=\"country\")\n",
        "\n",
        "result = imdb_filtered[[\"genre\", \"country\"]].value_counts().sort_index()\n",
        "print(\"The most common genres in each country:\")\n",
        "print(result)"
      ]
    },
    {
      "cell_type": "markdown",
      "metadata": {
        "id": "yNgUJMprJ1G-"
      },
      "source": [
        "### Question 2.9"
      ]
    },
    {
      "cell_type": "markdown",
      "metadata": {
        "id": "-F7juTs0J1G_"
      },
      "source": [
        "---\n",
        "\n",
        "❓ What is the influence of the country on the duration of the movies? Take advantage of a Seaborn violin or box plot to answer this. Elaborate."
      ]
    },
    {
      "cell_type": "code",
      "execution_count": null,
      "metadata": {
        "id": "J-lRKFIfJ1G_",
        "outputId": "1fd65d77-be34-40f0-b2cd-f9483465c883"
      },
      "outputs": [
        {
          "name": "stdout",
          "output_type": "stream",
          "text": [
            "imdb_filtered mean: 97.0\n",
            "affordable_df mean, i.e mean after removing remove outliers 97.0\n",
            "The influence of the country on the duration of the movies:\n",
            "duration  country\n",
            "45        UK         2\n",
            "          USA        2\n",
            "46        France     1\n",
            "          UK         1\n",
            "          USA        2\n",
            "                    ..\n",
            "235       USA        1\n",
            "239       USA        1\n",
            "281       France     1\n",
            "319       USA        1\n",
            "418       France     1\n",
            "Length: 526, dtype: int64\n"
          ]
        },
        {
          "data": {
            "image/png": "[encoded data removed]",
            "text/plain": [
              "<Figure size 432x288 with 1 Axes>"
            ]
          },
          "metadata": {
            "needs_background": "light"
          },
          "output_type": "display_data"
        }
      ],
      "source": [
        "# Your code here\n",
        "\n",
        "# 1. Please remove comment to see the violinplot with all the data, and go to comment 2\n",
        "#sns.violinplot(data=imdb_filtered, x=\"duration\", hue=\"country\")\n",
        "\n",
        "# 2. Please comment the next two lines of code to see the violinplot with all the data, together with 1\n",
        "affordable_df = imdb_filtered[imdb_filtered['duration'] <= 175]\n",
        "sns.violinplot(data=affordable_df, x=\"duration\", hue=\"country\")\n",
        "\n",
        "\n",
        "# the mean:\n",
        "\n",
        "print(\"imdb_filtered mean:\", round(imdb_filtered.duration.mean(),0))\n",
        "print(\"affordable_df mean, i.e mean after removing remove outliers\", round(affordable_df.duration.mean(), 0))\n",
        "\n",
        "result = imdb_filtered[[\"duration\", \"country\"]].value_counts().sort_index()\n",
        "print(\"The influence of the country on the duration of the movies:\")\n",
        "print(result)\n",
        "\n"
      ]
    },
    {
      "cell_type": "markdown",
      "metadata": {
        "id": "rII6kXq3J1HA"
      },
      "source": [
        "### Question 2.10"
      ]
    },
    {
      "cell_type": "markdown",
      "metadata": {
        "id": "_XHMPXmzJ1HA"
      },
      "source": [
        "---\n",
        "\n",
        "❓ How does the distribution of the average vote differ based on the genre? Elaborate."
      ]
    },
    {
      "cell_type": "code",
      "execution_count": null,
      "metadata": {
        "id": "CWQUvrxfJ1HB",
        "outputId": "32c600d8-12c3-4839-95b9-e1bd73d0253a"
      },
      "outputs": [
        {
          "name": "stdout",
          "output_type": "stream",
          "text": [
            "average vote differ based on the genre:\n"
          ]
        },
        {
          "data": {
            "text/plain": [
              "genre\n",
              "Comedy      5.532501\n",
              "Drama       6.203349\n",
              "Horror      4.124083\n",
              "Thriller    4.963818\n",
              "Name: avg_vote, dtype: float64"
            ]
          },
          "execution_count": 16,
          "metadata": {},
          "output_type": "execute_result"
        },
        {
          "data": {
            "image/png": "[encoded data removed]",
            "text/plain": [
              "<Figure size 1800x576 with 1 Axes>"
            ]
          },
          "metadata": {
            "needs_background": "light"
          },
          "output_type": "display_data"
        }
      ],
      "source": [
        "# Your code here\n",
        "\n",
        "from matplotlib import pyplot as plt\n",
        "plt.figure(figsize=(25, 8))\n",
        "\n",
        "sns.countplot(data=imdb_filtered, x=\"avg_vote\", hue=\"genre\")\n",
        "\n",
        "\n",
        "\n",
        "#Extra data about the distribution:\n",
        "print(\"average vote differ based on the genre:\")\n",
        "imdb_filtered.value_counts()\n",
        "top_genres = ['Drama', 'Comedy', 'Horror', 'Thriller']\n",
        "imdb_filtered[imdb_filtered.genre.isin(top_genres)].groupby('genre').avg_vote.mean()"
      ]
    },
    {
      "cell_type": "markdown",
      "metadata": {
        "id": "lkccdlqWJ1HB"
      },
      "source": [
        "### Question 2.11"
      ]
    },
    {
      "cell_type": "markdown",
      "metadata": {
        "id": "XY6dj8GrJ1HC"
      },
      "source": [
        "---\n",
        "\n",
        "❓How many movies have no data regarding their budget (i.e. the budget is NaN)? Store the result in a variable called **total_movies_without_budget**."
      ]
    },
    {
      "cell_type": "code",
      "execution_count": null,
      "metadata": {
        "id": "Jb2dBUGMJ1HC",
        "outputId": "affc290d-9f95-4f9a-f2e2-90974cbc7622"
      },
      "outputs": [
        {
          "name": "stdout",
          "output_type": "stream",
          "text": [
            "total number of movies that have no data regarding their budget:\n",
            "7548\n"
          ]
        }
      ],
      "source": [
        "# Your code here\n",
        "\n",
        "total_movies_without_budget = imdb_filtered[\"budget\"].isnull().sum()\n",
        "\n",
        "\n",
        "print(\"total number of movies that have no data regarding their budget:\")\n",
        "print(total_movies_without_budget)\n"
      ]
    },
    {
      "cell_type": "markdown",
      "metadata": {
        "id": "tpf2oWUSJ1HD"
      },
      "source": [
        "### Question 2.12"
      ]
    },
    {
      "cell_type": "markdown",
      "metadata": {
        "id": "volunsenJ1HE"
      },
      "source": [
        "---\n",
        "\n",
        "❓ What is the % of movies that have no data regarding their budget? \n",
        "\n",
        "**Hint:** Remember that you have created the *total_movie_number* and *total_movies_without_budget* variables in previous questions! "
      ]
    },
    {
      "cell_type": "code",
      "execution_count": null,
      "metadata": {
        "id": "4oX09HG1J1HE",
        "outputId": "03d82be1-8a49-4369-db58-2597ba102205"
      },
      "outputs": [
        {
          "name": "stdout",
          "output_type": "stream",
          "text": [
            "percentage of total number of movies that have no data regarding their budget:\n",
            "74.93\n"
          ]
        }
      ],
      "source": [
        "# Your code here\n",
        "\n",
        "# It will be used the 'total_movie_number' \n",
        "# because the rows with the duplicate movies with the same original title were not deleted\n",
        "percentage_total_movies_without_budget = 100 * total_movies_without_budget/total_movie_number \n",
        "\n",
        "\n",
        "print(\"percentage of total number of movies that have no data regarding their budget:\")\n",
        "print(round(percentage_total_movies_without_budget, 2))\n",
        "\n",
        "\n"
      ]
    },
    {
      "cell_type": "markdown",
      "metadata": {
        "id": "RGHhkUkFJ1HF"
      },
      "source": [
        "### Question 2.13"
      ]
    },
    {
      "cell_type": "markdown",
      "metadata": {
        "id": "NnYJVaCpJ1HF"
      },
      "source": [
        "---\n",
        "\n",
        "❓ Since the sample size of movies with budget information is still big, we can select only movies with information regarding their budget to conduct some exploratory analysis based on this data. \n",
        "\n",
        "Create a new dataframe called **movies_with_budget** which contains only movies with information regarding their budget.\n",
        "\n",
        "**Hint:** To find movies in which the data regarding their budget is **NOT** NaN you might apply the <a href=\"https://pandas.pydata.org/pandas-docs/stable/reference/api/pandas.DataFrame.notnull.html\"><code>pandas.DataFrame.notnull()</code></a>  method, which is the opposite of the <a href=\"https://pandas.pydata.org/pandas-docs/stable/reference/api/pandas.DataFrame.isnull.html\"><code>pandas.DataFrame.isnull()</code></a> method."
      ]
    },
    {
      "cell_type": "code",
      "execution_count": null,
      "metadata": {
        "id": "azXm1cJ1J1HG",
        "outputId": "64e7575c-1632-4977-e184-2f31d01b592c"
      },
      "outputs": [
        {
          "name": "stdout",
          "output_type": "stream",
          "text": [
            "Number of rows and columns of the movies_with_budget DataFrame with only movies with information regarding their budget:\n",
            "(2526, 12)\n",
            "Number of rows and columns expected when considering only movies with information regarding their budget:\n",
            "2526\n"
          ]
        }
      ],
      "source": [
        "# Your code here\n",
        "\n",
        "movies_with_budget = imdb_filtered[imdb_filtered.budget.notnull()]\n",
        "\n",
        "#validation of the drop columns\n",
        "print(\"Number of rows and columns of the movies_with_budget DataFrame with only movies with information regarding their budget:\")\n",
        "print(movies_with_budget.shape)\n",
        "\n",
        "print(\"Number of rows and columns expected when considering only movies with information regarding their budget:\")\n",
        "print(total_movie_number - total_movies_without_budget)"
      ]
    },
    {
      "cell_type": "markdown",
      "metadata": {
        "id": "pPAJ6AxXJ1HH"
      },
      "source": [
        "At the moment the **budget** column is a string. To conduct EDA related to the budget it is necessary to convert this variable into a float. Also, for comparison purposes we need to select only movies that have the same currency type. \n",
        "\n",
        "Run the following code to filter only movies for which the budget is in USD ($): "
      ]
    },
    {
      "cell_type": "code",
      "execution_count": null,
      "metadata": {
        "id": "m71VI-1DJ1HH",
        "outputId": "fb5bcc11-3c3a-4df2-b599-a40cf2703648"
      },
      "outputs": [
        {
          "name": "stderr",
          "output_type": "stream",
          "text": [
            "/home/carlacotas/.virtualenvs/prep-venv/lib/python3.7/site-packages/ipykernel_launcher.py:1: SettingWithCopyWarning: \n",
            "A value is trying to be set on a copy of a slice from a DataFrame.\n",
            "Try using .loc[row_indexer,col_indexer] = value instead\n",
            "\n",
            "See the caveats in the documentation: https://pandas.pydata.org/pandas-docs/stable/user_guide/indexing.html#returning-a-view-versus-a-copy\n",
            "  \"\"\"Entry point for launching an IPython kernel.\n"
          ]
        }
      ],
      "source": [
        "movies_with_budget[\"budget_in_usd\"]=movies_with_budget[\"budget\"].apply(lambda row: row[0]==\"$\") \n",
        "# creates a column \"budget_in_usd\" with information on whether budget is in USD\n",
        "\n",
        "movies_with_budget_in_usd = movies_with_budget[movies_with_budget[\"budget_in_usd\"] == True]\n",
        "# creates a dataframe \"movies_with_budget_in_usd\" with movies for which the budget is in USD "
      ]
    },
    {
      "cell_type": "markdown",
      "metadata": {
        "id": "zPRnbr7_J1HI"
      },
      "source": [
        "Run the following code to transform the **budget** column from a string to a float:"
      ]
    },
    {
      "cell_type": "code",
      "execution_count": null,
      "metadata": {
        "scrolled": true,
        "id": "ix1CywcNJ1HI",
        "outputId": "cea48526-6de8-4ae8-f71f-6c081ee8b2e2"
      },
      "outputs": [
        {
          "name": "stderr",
          "output_type": "stream",
          "text": [
            "/home/carlacotas/.virtualenvs/prep-venv/lib/python3.7/site-packages/ipykernel_launcher.py:1: SettingWithCopyWarning: \n",
            "A value is trying to be set on a copy of a slice from a DataFrame.\n",
            "Try using .loc[row_indexer,col_indexer] = value instead\n",
            "\n",
            "See the caveats in the documentation: https://pandas.pydata.org/pandas-docs/stable/user_guide/indexing.html#returning-a-view-versus-a-copy\n",
            "  \"\"\"Entry point for launching an IPython kernel.\n",
            "/home/carlacotas/.virtualenvs/prep-venv/lib/python3.7/site-packages/ipykernel_launcher.py:4: SettingWithCopyWarning: \n",
            "A value is trying to be set on a copy of a slice from a DataFrame.\n",
            "Try using .loc[row_indexer,col_indexer] = value instead\n",
            "\n",
            "See the caveats in the documentation: https://pandas.pydata.org/pandas-docs/stable/user_guide/indexing.html#returning-a-view-versus-a-copy\n",
            "  after removing the cwd from sys.path.\n"
          ]
        }
      ],
      "source": [
        "movies_with_budget_in_usd[\"budget\"] = movies_with_budget_in_usd[\"budget\"].apply(lambda row: row[1:])\n",
        "# iterates over all values of the budget column and removes the 3 first character that always stand for the EUR code\n",
        "\n",
        "movies_with_budget_in_usd[\"budget\"] = movies_with_budget_in_usd[\"budget\"].astype('float')\n",
        "# converts all values within the budget column from string to float"
      ]
    },
    {
      "cell_type": "markdown",
      "metadata": {
        "id": "4B1BlkWOJ1HJ"
      },
      "source": [
        "### Question 2.14"
      ]
    },
    {
      "cell_type": "markdown",
      "metadata": {
        "id": "4klcLARTJ1HJ"
      },
      "source": [
        "\n",
        "\n",
        "❓ How is the relationship between the columns `budget` and `avg_vote`? Elaborate. \n",
        "\n",
        "**Don't forget that you should use the *movies_with_budget_in_usd* DataFrame for this exercise!**\n",
        "\n",
        "\n",
        "**Hint:** Use [`seaborn.lmplot`](https://seaborn.pydata.org/generated/seaborn.lmplot.html) to graphically read a linear correlation between two columns:"
      ]
    },
    {
      "cell_type": "code",
      "execution_count": null,
      "metadata": {
        "id": "wLyOfBXXJ1HK",
        "outputId": "6cefa733-dd28-40f7-b384-80f056e08be1"
      },
      "outputs": [
        {
          "data": {
            "text/plain": [
              "<seaborn.axisgrid.FacetGrid at 0x7f9f2401d510>"
            ]
          },
          "execution_count": 22,
          "metadata": {},
          "output_type": "execute_result"
        },
        {
          "data": {
            "image/png": "[encoded data removed]",
            "text/plain": [
              "<Figure size 360x360 with 1 Axes>"
            ]
          },
          "metadata": {
            "needs_background": "light"
          },
          "output_type": "display_data"
        }
      ],
      "source": [
        "# Your code here\n",
        "\n",
        "\n",
        "#sns.lmplot(data=movies_with_budget_in_usd, x='budget', y=\"avg_vote\")\n",
        "#maybe the next graph have the relationship between the columns budget and avg_vote presented in a better way to take some conclusions\n",
        "\n",
        "sns.lmplot(data=movies_with_budget_in_usd, x='avg_vote', y=\"budget\")"
      ]
    },
    {
      "cell_type": "markdown",
      "metadata": {
        "id": "bDS5XHJbJ1HK"
      },
      "source": [
        "### Question 2.15"
      ]
    },
    {
      "cell_type": "markdown",
      "metadata": {
        "id": "TDhDekTbJ1HL"
      },
      "source": [
        "❓ Now it is time for you to show us your creativity. Find some other relevant question that can be answered with data from the **imdb_filtered** DataFrame and develop a response for this question! \n"
      ]
    },
    {
      "cell_type": "code",
      "execution_count": null,
      "metadata": {
        "id": "vB0kIYyIJ1HN",
        "outputId": "21aa7999-a211-440d-c2c6-d9e4a9693174"
      },
      "outputs": [
        {
          "name": "stdout",
          "output_type": "stream",
          "text": [
            "> The language with the most movie:\n",
            "English    6692\n",
            "Name: language, dtype: int64\n",
            "> The language with the less movie:\n",
            "English, Cantonese, Mandarin    1\n",
            "Name: language, dtype: int64\n",
            "-----\n",
            "> For the first 10 languages with most movies, each one have the total of movies:\n",
            "English             6692\n",
            "French              1063\n",
            "Hindi                283\n",
            "Malayalam            221\n",
            "Tamil                160\n",
            "Bengali              154\n",
            "Mandarin             110\n",
            "Telugu               103\n",
            "English, Spanish      98\n",
            "English, French       83\n",
            "Name: language, dtype: int64\n",
            "avg_vote differ based on the 10 languages:\n",
            "language\n",
            "Bengali             6.924675\n",
            "English             5.309429\n",
            "English, French     6.132530\n",
            "English, Spanish    5.913265\n",
            "French              5.923142\n",
            "Hindi               6.067138\n",
            "Malayalam           6.281900\n",
            "Mandarin            6.506364\n",
            "Tamil               6.530000\n",
            "Telugu              6.242718\n",
            "Name: avg_vote, dtype: float64\n",
            "-----\n",
            "Matplotlib barchart:\n"
          ]
        },
        {
          "data": {
            "text/plain": [
              "<AxesSubplot:>"
            ]
          },
          "execution_count": 23,
          "metadata": {},
          "output_type": "execute_result"
        },
        {
          "data": {
            "image/png": "[encoded data removed]",
            "text/plain": [
              "<Figure size 432x288 with 1 Axes>"
            ]
          },
          "metadata": {
            "needs_background": "light"
          },
          "output_type": "display_data"
        }
      ],
      "source": [
        "# Your code here\n",
        "\n",
        "# What is the language with the most movie, and, with the less movie?  \n",
        "# Plot the 10 languages with the most movie with a Matplotlib barchart.\n",
        "# For these 10 languages, how many movies have each one?\n",
        "# What about the avg_vote for those movies?\n",
        "\n",
        "result_most = imdb_filtered[\"language\"].value_counts().head(1)\n",
        "result_less = imdb_filtered[\"language\"].value_counts().tail(1)\n",
        "result = imdb_filtered[\"language\"].value_counts().head(10)\n",
        "\n",
        "print(\"> The language with the most movie:\")\n",
        "print(result_most)\n",
        "print(\"> The language with the less movie:\")\n",
        "print(result_less)\n",
        "\n",
        "print(\"-----\")\n",
        "print(\"> For the first 10 languages with most movies, each one have the total of movies:\")\n",
        "print(result)\n",
        "\n",
        "\n",
        "print(\"avg_vote differ based on the 10 languages:\")\n",
        "imdb_filtered.value_counts()\n",
        "top_languages = ['English', 'French', 'Hindi', 'Malayalam', 'Tamil', 'Bengali', 'Mandarin', 'Telugu', 'English, Spanish', 'English, French']\n",
        "print(imdb_filtered[imdb_filtered.language.isin(top_languages)].groupby('language').avg_vote.mean())\n",
        "\n",
        "## Matplotlib barchart:\n",
        "print(\"-----\")\n",
        "print(\"Matplotlib barchart:\")\n",
        "\n",
        "result.plot(kind='bar')\n",
        "\n"
      ]
    },
    {
      "cell_type": "markdown",
      "metadata": {
        "id": "6qsDlyl-J1HQ"
      },
      "source": [
        "## Question 3 - Web Scraping"
      ]
    },
    {
      "cell_type": "markdown",
      "metadata": {
        "id": "y0x6RDtVJ1HQ"
      },
      "source": [
        "Let's test your Web Scraping skills!  \n",
        "\n",
        "Start by getting the HTML from the Books to Scrape webpage parsed by running the two following cells:"
      ]
    },
    {
      "cell_type": "code",
      "execution_count": null,
      "metadata": {
        "id": "WoRuxnbJJ1HR"
      },
      "outputs": [],
      "source": [
        "import requests\n",
        "from bs4 import BeautifulSoup"
      ]
    },
    {
      "cell_type": "code",
      "execution_count": null,
      "metadata": {
        "id": "P685-eK9J1HR"
      },
      "outputs": [],
      "source": [
        "url = \"http://books.toscrape.com/\" # define the URL of the webpage we want to parse\n",
        "response = requests.get(url) # request HTML  \n",
        "html = response.content # get HTML as text\n",
        "scraped = BeautifulSoup(html,'html.parser') # parse HTML"
      ]
    },
    {
      "cell_type": "markdown",
      "metadata": {
        "id": "Mq3ldePGJ1HS"
      },
      "source": [
        "### Question 3.1"
      ]
    },
    {
      "cell_type": "markdown",
      "metadata": {
        "id": "myd8VsqvJ1HS"
      },
      "source": [
        "❓ Get the title of webpage scraped above. Only get the text within the title element and do not forget to clean any invisible characters that it might contain!\n",
        "\n",
        "**Hint:** Remember that the HTML of this webpage has been parsed into the variable **scraped**!"
      ]
    },
    {
      "cell_type": "code",
      "execution_count": null,
      "metadata": {
        "id": "BUeSy0TuJ1HT",
        "outputId": "2ef9cd89-cb91-4861-eb01-76fbdb275e79"
      },
      "outputs": [
        {
          "name": "stdout",
          "output_type": "stream",
          "text": [
            "Title of webpage scraped above :\n",
            "All products | Books to Scrape - Sandbox\n"
          ]
        }
      ],
      "source": [
        "# Your code here\n",
        "\n",
        "title = scraped.title.text.strip()\n",
        "print(\"Title of webpage scraped above :\")\n",
        "print(title)"
      ]
    },
    {
      "cell_type": "markdown",
      "metadata": {
        "id": "J_C4c6O9J1HT"
      },
      "source": [
        "### Question 3.2"
      ]
    },
    {
      "cell_type": "markdown",
      "metadata": {
        "id": "dvXUCB0QJ1HU"
      },
      "source": [
        "❓ Show us what you have learned until now and scrape a content of your choice from the Books to Scrape webpage."
      ]
    },
    {
      "cell_type": "code",
      "execution_count": null,
      "metadata": {
        "id": "cYDMukt0J1HU",
        "outputId": "15a73d37-4aa7-450a-9d7f-a3e138b7cc7b"
      },
      "outputs": [
        {
          "name": "stdout",
          "output_type": "stream",
          "text": [
            "First webpage book's section: [<li class=\"active\">All products</li>]\n",
            "----- \n",
            "\n",
            "The Most Perfect Thing: Inside (and Outside) a Bird's Egg\n",
            "Immunity: How Elie Metchnikoff Changed the Course of Modern Medicine\n",
            "Sorting the Beef from the Bull: The Science of Food Fraud Forensics\n",
            "Tipping Point for Planet Earth: How Close Are We to the Edge?\n",
            "The Fabric of the Cosmos: Space, Time, and the Texture of Reality\n",
            "Diary of a Citizen Scientist: Chasing Tiger Beetles and Other New Ways of Engaging the World\n",
            "The Origin of Species\n",
            "The Grand Design\n",
            "Peak: Secrets from the New Science of Expertise\n",
            "The Elegant Universe: Superstrings, Hidden Dimensions, and the Quest for the Ultimate Theory\n",
            "The Disappearing Spoon: And Other True Tales of Madness, Love, and the History of the World from the Periodic Table of the Elements\n",
            "Surely You're Joking, Mr. Feynman!: Adventures of a Curious Character\n",
            "Seven Brief Lessons on Physics\n",
            "The Selfish Gene\n",
            "\n",
            "First webpage book's section, after filter books: [<li class=\"active\">Science</li>]\n"
          ]
        }
      ],
      "source": [
        "# Your code here\n",
        "\n",
        "first_section_indicator = scraped.select(\".active\")\n",
        "print(\"First webpage book's section:\", first_section_indicator)\n",
        "print(\"----- \\n\")\n",
        "\n",
        "# Books to Scrape webpage: Home/Books/Science\n",
        "# Scraping the title of all books on Science Category (the filter result has only results in one page)\n",
        "url = \"http://books.toscrape.com/catalogue/category/books/science_22/index.html\" # define the URL of the webpage we want to parse\n",
        "response = requests.get(url) # request HTML  \n",
        "html = response.content # get HTML as text\n",
        "scraped = BeautifulSoup(html,'html.parser') # parse HTML\n",
        "\n",
        "\n",
        "items = scraped.find_all(\"article\", class_=\"product_pod\")\n",
        "\n",
        "for item in items:\n",
        "    title = item.h3.a[\"title\"]\n",
        "    print(title)\n",
        "\n",
        "second_section_indicator = scraped.select(\".active\")\n",
        "print(\"\\nFirst webpage book's section, after filter books:\", second_section_indicator)"
      ]
    }
  ],
  "metadata": {
    "kernelspec": {
      "display_name": "Python 3",
      "language": "python",
      "name": "python3"
    },
    "language_info": {
      "codemirror_mode": {
        "name": "ipython",
        "version": 3
      },
      "file_extension": ".py",
      "mimetype": "text/x-python",
      "name": "python",
      "nbconvert_exporter": "python",
      "pygments_lexer": "ipython3",
      "version": "3.7.11"
    },
    "colab": {
      "provenance": [],
      "include_colab_link": true
    }
  },
  "nbformat": 4,
  "nbformat_minor": 0
}